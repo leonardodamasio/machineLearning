{
 "cells": [
  {
   "cell_type": "markdown",
   "metadata": {},
   "source": [
    "# Machine Learning | Classification"
   ]
  },
  {
   "cell_type": "markdown",
   "metadata": {},
   "source": [
    "##### by *Leonardo Damasio* | **Data Scientist**"
   ]
  },
  {
   "cell_type": "markdown",
   "metadata": {},
   "source": [
    "### Tools"
   ]
  },
  {
   "cell_type": "code",
   "execution_count": 1,
   "metadata": {},
   "outputs": [
    {
     "name": "stdout",
     "output_type": "stream",
     "text": [
      "\n",
      "Importing tools\n",
      "Successfully imported tools\n"
     ]
    }
   ],
   "source": [
    "print(\"\\nImporting tools\")\n",
    "\n",
    "# Basic Tools\n",
    "import pandas as pd # Pandas\n",
    "import numpy as np # NumPy\n",
    "import matplotlib.pyplot as plt # MatPlotLib\n",
    "import operator # Operator\n",
    "import os # Operating System\n",
    "\n",
    "# Data Wrangling Tools\n",
    "from sklearn.model_selection import train_test_split # Train / Test Split\n",
    "from sklearn.preprocessing import LabelEncoder # Transforms into numerical (Only if you have categorical records)\n",
    "\n",
    "# Results Tools\n",
    "from sklearn.metrics import confusion_matrix, accuracy_score # Simple Confusion Matrix and Accuracy Score\n",
    "from yellowbrick.classifier import ConfusionMatrix # Confusion Matrix Plot\n",
    "from matplotlib.pylab import rcParams # Plot Size\n",
    "\n",
    "# Extra Tools\n",
    "from sklearn.ensemble import ExtraTreesClassifier # Variable Importances\n",
    "\n",
    "print(\"Successfully imported tools\")"
   ]
  },
  {
   "cell_type": "markdown",
   "metadata": {},
   "source": [
    "### Classifying Algorithms (Choose One)"
   ]
  },
  {
   "cell_type": "code",
   "execution_count": 2,
   "metadata": {},
   "outputs": [
    {
     "name": "stdout",
     "output_type": "stream",
     "text": [
      "\n",
      "Choose the number of your algorithm:\n",
      "\n",
      "0 for Naive Bayes Classifier\n",
      "1 for K-Nearest Neighbors Classifier\n",
      "2 for Decision Tree Classifier\n",
      "3 for Support Vector Machine Classifier\n",
      "4 for Random Forest Classifier\n",
      "5 for Extreme Gradient Boosted Trees Classifier\n",
      "\n",
      "Choice: 4\n",
      "Random Forest Classifier\n",
      "Success\n"
     ]
    }
   ],
   "source": [
    "random = 0\n",
    "possible = range(6)\n",
    "choice = \"\"\n",
    "\n",
    "while choice not in possible:\n",
    "\n",
    "    try:\n",
    "        choice = int(input(\"\"\"\n",
    "Choose the number of your algorithm:\n",
    "\n",
    "0 for Naive Bayes Classifier\n",
    "1 for K-Nearest Neighbors Classifier\n",
    "2 for Decision Tree Classifier\n",
    "3 for Support Vector Machine Classifier\n",
    "4 for Random Forest Classifier\n",
    "5 for Extreme Gradient Boosted Trees Classifier\n",
    "\n",
    "Choice: \"\"\"))\n",
    "    \n",
    "    except:\n",
    "        pass\n",
    "    \n",
    "    if choice not in possible:\n",
    "        print(\"\\n\\n\\nYou must choose one of these numbers: \", list(possible))\n",
    "\n",
    "if choice == 0:\n",
    "    print(\"Naive Bayes Classifier\")\n",
    "    from sklearn.naive_bayes import GaussianNB \n",
    "    model = GaussianNB()\n",
    "\n",
    "elif choice == 1:\n",
    "    print(\"K-Nearest Neighbors Classifier\")\n",
    "    from sklearn.neighbors import KNeighborsClassifier \n",
    "    model = KNeighborsClassifier(n_neighbors = 3)\n",
    "\n",
    "elif choice == 2:\n",
    "    print(\"Decision Tree Classifier\")\n",
    "    from sklearn.tree import DecisionTreeClassifier \n",
    "    model = DecisionTreeClassifier(random_state=random)\n",
    "    import graphviz # Graph visualization\n",
    "    from sklearn.tree import export_graphviz # Creates a .dot for a Decision Tree Visualization. To visualize, copy and paste the content inside http://www.webgraphviz.com\n",
    "\n",
    "elif choice == 3:\n",
    "    print(\"Support Vector Machine Classifier\")\n",
    "    from sklearn.svm import SVC \n",
    "    model = SVC(probability=True, random_state=random)\n",
    "\n",
    "elif choice == 4:\n",
    "    print(\"Random Forest Classifier\")\n",
    "    from sklearn.ensemble import RandomForestClassifier \n",
    "    model = RandomForestClassifier(n_estimators = 1000, random_state=random)\n",
    "\n",
    "elif choice == 5:\n",
    "    print(\"Extreme Gradient Boosted Trees Classifier\")\n",
    "    from xgboost import XGBClassifier \n",
    "    model = XGBClassifier(base_score=0.5, \n",
    "                           booster='gbtree', \n",
    "                           colsample_bylevel=1,\n",
    "                           colsample_bynode=1,\n",
    "                           colsample_bytree=0.8,\n",
    "                           gamma=0,\n",
    "                           learning_rate=0.2, \n",
    "                           max_delta_step=0, \n",
    "                           max_depth=5,\n",
    "                           min_child_weight=1, \n",
    "                           missing=None, \n",
    "                           n_estimators=1000,\n",
    "                           n_jobs=1,\n",
    "                           nthread=None, \n",
    "                           objective='binary:logistic', \n",
    "                           random_state=random,\n",
    "                           reg_alpha=0, \n",
    "                           reg_lambda=1, \n",
    "                           scale_pos_weight=1, \n",
    "                           seed=None,\n",
    "                           silent=None, \n",
    "                           subsample=0.8, \n",
    "                           verbosity=1)\n",
    "\n",
    "print(\"Success\")"
   ]
  },
  {
   "cell_type": "markdown",
   "metadata": {},
   "source": [
    "### Results Folder"
   ]
  },
  {
   "cell_type": "code",
   "execution_count": 3,
   "metadata": {},
   "outputs": [
    {
     "name": "stdout",
     "output_type": "stream",
     "text": [
      "\n",
      "Creating the results folder\n",
      "Directory <results> already exists.\n"
     ]
    }
   ],
   "source": [
    "print(\"\\nCreating the results folder\")\n",
    "\n",
    "try:\n",
    "    os.mkdir('results')\n",
    "    print (\"Successfully created the directory <results>.\")\n",
    "except OSError:\n",
    "    print (\"Directory <results> already exists.\")"
   ]
  },
  {
   "cell_type": "markdown",
   "metadata": {},
   "source": [
    "### Datasets Import"
   ]
  },
  {
   "cell_type": "code",
   "execution_count": 4,
   "metadata": {},
   "outputs": [
    {
     "name": "stdout",
     "output_type": "stream",
     "text": [
      "\n",
      "Importing dataset\n",
      "Dataset imported\n",
      "Dataset Shape: (1000, 21)\n"
     ]
    }
   ],
   "source": [
    "print(\"\\nImporting dataset\")\n",
    "\n",
    "dataset = pd.read_csv(\"credit.csv\", sep = \",\")\n",
    "print(\"Dataset imported\")\n",
    "print(\"Dataset Shape:\", dataset.shape)"
   ]
  },
  {
   "cell_type": "markdown",
   "metadata": {},
   "source": [
    "### X / Y Split"
   ]
  },
  {
   "cell_type": "code",
   "execution_count": 5,
   "metadata": {},
   "outputs": [
    {
     "name": "stdout",
     "output_type": "stream",
     "text": [
      "\n",
      "***** X *****\n",
      "\n"
     ]
    },
    {
     "data": {
      "text/html": [
       "<div>\n",
       "<style scoped>\n",
       "    .dataframe tbody tr th:only-of-type {\n",
       "        vertical-align: middle;\n",
       "    }\n",
       "\n",
       "    .dataframe tbody tr th {\n",
       "        vertical-align: top;\n",
       "    }\n",
       "\n",
       "    .dataframe thead th {\n",
       "        text-align: right;\n",
       "    }\n",
       "</style>\n",
       "<table border=\"1\" class=\"dataframe\">\n",
       "  <thead>\n",
       "    <tr style=\"text-align: right;\">\n",
       "      <th></th>\n",
       "      <th>checking_status</th>\n",
       "      <th>duration</th>\n",
       "      <th>credit_history</th>\n",
       "      <th>purpose</th>\n",
       "      <th>credit_amount</th>\n",
       "      <th>savings_status</th>\n",
       "      <th>employment</th>\n",
       "      <th>installment_commitment</th>\n",
       "      <th>personal_status</th>\n",
       "      <th>other_parties</th>\n",
       "      <th>residence_since</th>\n",
       "      <th>property_magnitude</th>\n",
       "      <th>age</th>\n",
       "      <th>other_payment_plans</th>\n",
       "      <th>housing</th>\n",
       "      <th>existing_credits</th>\n",
       "      <th>job</th>\n",
       "      <th>num_dependents</th>\n",
       "      <th>own_telephone</th>\n",
       "      <th>foreign_worker</th>\n",
       "    </tr>\n",
       "  </thead>\n",
       "  <tbody>\n",
       "    <tr>\n",
       "      <th>0</th>\n",
       "      <td>&lt;0</td>\n",
       "      <td>6</td>\n",
       "      <td>'critical/other existing credit'</td>\n",
       "      <td>radio/tv</td>\n",
       "      <td>1169</td>\n",
       "      <td>'no known savings'</td>\n",
       "      <td>&gt;=7</td>\n",
       "      <td>4</td>\n",
       "      <td>'male single'</td>\n",
       "      <td>none</td>\n",
       "      <td>4</td>\n",
       "      <td>'real estate'</td>\n",
       "      <td>67</td>\n",
       "      <td>none</td>\n",
       "      <td>own</td>\n",
       "      <td>2</td>\n",
       "      <td>skilled</td>\n",
       "      <td>1</td>\n",
       "      <td>yes</td>\n",
       "      <td>yes</td>\n",
       "    </tr>\n",
       "    <tr>\n",
       "      <th>1</th>\n",
       "      <td>0&lt;=X&lt;200</td>\n",
       "      <td>48</td>\n",
       "      <td>'existing paid'</td>\n",
       "      <td>radio/tv</td>\n",
       "      <td>5951</td>\n",
       "      <td>&lt;100</td>\n",
       "      <td>1&lt;=X&lt;4</td>\n",
       "      <td>2</td>\n",
       "      <td>'female div/dep/mar'</td>\n",
       "      <td>none</td>\n",
       "      <td>2</td>\n",
       "      <td>'real estate'</td>\n",
       "      <td>22</td>\n",
       "      <td>none</td>\n",
       "      <td>own</td>\n",
       "      <td>1</td>\n",
       "      <td>skilled</td>\n",
       "      <td>1</td>\n",
       "      <td>none</td>\n",
       "      <td>yes</td>\n",
       "    </tr>\n",
       "    <tr>\n",
       "      <th>2</th>\n",
       "      <td>'no checking'</td>\n",
       "      <td>12</td>\n",
       "      <td>'critical/other existing credit'</td>\n",
       "      <td>education</td>\n",
       "      <td>2096</td>\n",
       "      <td>&lt;100</td>\n",
       "      <td>4&lt;=X&lt;7</td>\n",
       "      <td>2</td>\n",
       "      <td>'male single'</td>\n",
       "      <td>none</td>\n",
       "      <td>3</td>\n",
       "      <td>'real estate'</td>\n",
       "      <td>49</td>\n",
       "      <td>none</td>\n",
       "      <td>own</td>\n",
       "      <td>1</td>\n",
       "      <td>'unskilled resident'</td>\n",
       "      <td>2</td>\n",
       "      <td>none</td>\n",
       "      <td>yes</td>\n",
       "    </tr>\n",
       "    <tr>\n",
       "      <th>3</th>\n",
       "      <td>&lt;0</td>\n",
       "      <td>42</td>\n",
       "      <td>'existing paid'</td>\n",
       "      <td>furniture/equipment</td>\n",
       "      <td>7882</td>\n",
       "      <td>&lt;100</td>\n",
       "      <td>4&lt;=X&lt;7</td>\n",
       "      <td>2</td>\n",
       "      <td>'male single'</td>\n",
       "      <td>guarantor</td>\n",
       "      <td>4</td>\n",
       "      <td>'life insurance'</td>\n",
       "      <td>45</td>\n",
       "      <td>none</td>\n",
       "      <td>'for free'</td>\n",
       "      <td>1</td>\n",
       "      <td>skilled</td>\n",
       "      <td>2</td>\n",
       "      <td>none</td>\n",
       "      <td>yes</td>\n",
       "    </tr>\n",
       "    <tr>\n",
       "      <th>4</th>\n",
       "      <td>&lt;0</td>\n",
       "      <td>24</td>\n",
       "      <td>'delayed previously'</td>\n",
       "      <td>'new car'</td>\n",
       "      <td>4870</td>\n",
       "      <td>&lt;100</td>\n",
       "      <td>1&lt;=X&lt;4</td>\n",
       "      <td>3</td>\n",
       "      <td>'male single'</td>\n",
       "      <td>none</td>\n",
       "      <td>4</td>\n",
       "      <td>'no known property'</td>\n",
       "      <td>53</td>\n",
       "      <td>none</td>\n",
       "      <td>'for free'</td>\n",
       "      <td>2</td>\n",
       "      <td>skilled</td>\n",
       "      <td>2</td>\n",
       "      <td>none</td>\n",
       "      <td>yes</td>\n",
       "    </tr>\n",
       "  </tbody>\n",
       "</table>\n",
       "</div>"
      ],
      "text/plain": [
       "  checking_status  duration                    credit_history  \\\n",
       "0              <0         6  'critical/other existing credit'   \n",
       "1        0<=X<200        48                   'existing paid'   \n",
       "2   'no checking'        12  'critical/other existing credit'   \n",
       "3              <0        42                   'existing paid'   \n",
       "4              <0        24              'delayed previously'   \n",
       "\n",
       "               purpose  credit_amount      savings_status employment  \\\n",
       "0             radio/tv           1169  'no known savings'        >=7   \n",
       "1             radio/tv           5951                <100     1<=X<4   \n",
       "2            education           2096                <100     4<=X<7   \n",
       "3  furniture/equipment           7882                <100     4<=X<7   \n",
       "4            'new car'           4870                <100     1<=X<4   \n",
       "\n",
       "   installment_commitment       personal_status other_parties  \\\n",
       "0                       4         'male single'          none   \n",
       "1                       2  'female div/dep/mar'          none   \n",
       "2                       2         'male single'          none   \n",
       "3                       2         'male single'     guarantor   \n",
       "4                       3         'male single'          none   \n",
       "\n",
       "   residence_since   property_magnitude  age other_payment_plans     housing  \\\n",
       "0                4        'real estate'   67                none         own   \n",
       "1                2        'real estate'   22                none         own   \n",
       "2                3        'real estate'   49                none         own   \n",
       "3                4     'life insurance'   45                none  'for free'   \n",
       "4                4  'no known property'   53                none  'for free'   \n",
       "\n",
       "   existing_credits                   job  num_dependents own_telephone  \\\n",
       "0                 2               skilled               1           yes   \n",
       "1                 1               skilled               1          none   \n",
       "2                 1  'unskilled resident'               2          none   \n",
       "3                 1               skilled               2          none   \n",
       "4                 2               skilled               2          none   \n",
       "\n",
       "  foreign_worker  \n",
       "0            yes  \n",
       "1            yes  \n",
       "2            yes  \n",
       "3            yes  \n",
       "4            yes  "
      ]
     },
     "execution_count": 5,
     "metadata": {},
     "output_type": "execute_result"
    }
   ],
   "source": [
    "x = dataset.iloc[:,0:20]\n",
    "x_labels = [i for i in x.columns]\n",
    "print(\"\\n***** X *****\\n\")\n",
    "pd.DataFrame(x).head()"
   ]
  },
  {
   "cell_type": "code",
   "execution_count": 6,
   "metadata": {},
   "outputs": [
    {
     "name": "stdout",
     "output_type": "stream",
     "text": [
      "\n",
      "***** Y *****\n",
      "\n"
     ]
    },
    {
     "data": {
      "text/html": [
       "<div>\n",
       "<style scoped>\n",
       "    .dataframe tbody tr th:only-of-type {\n",
       "        vertical-align: middle;\n",
       "    }\n",
       "\n",
       "    .dataframe tbody tr th {\n",
       "        vertical-align: top;\n",
       "    }\n",
       "\n",
       "    .dataframe thead th {\n",
       "        text-align: right;\n",
       "    }\n",
       "</style>\n",
       "<table border=\"1\" class=\"dataframe\">\n",
       "  <thead>\n",
       "    <tr style=\"text-align: right;\">\n",
       "      <th></th>\n",
       "      <th>class</th>\n",
       "    </tr>\n",
       "  </thead>\n",
       "  <tbody>\n",
       "    <tr>\n",
       "      <th>0</th>\n",
       "      <td>good</td>\n",
       "    </tr>\n",
       "    <tr>\n",
       "      <th>1</th>\n",
       "      <td>bad</td>\n",
       "    </tr>\n",
       "    <tr>\n",
       "      <th>2</th>\n",
       "      <td>good</td>\n",
       "    </tr>\n",
       "    <tr>\n",
       "      <th>3</th>\n",
       "      <td>good</td>\n",
       "    </tr>\n",
       "    <tr>\n",
       "      <th>4</th>\n",
       "      <td>bad</td>\n",
       "    </tr>\n",
       "  </tbody>\n",
       "</table>\n",
       "</div>"
      ],
      "text/plain": [
       "  class\n",
       "0  good\n",
       "1   bad\n",
       "2  good\n",
       "3  good\n",
       "4   bad"
      ]
     },
     "execution_count": 6,
     "metadata": {},
     "output_type": "execute_result"
    }
   ],
   "source": [
    "y = dataset.iloc[:,20]\n",
    "print(\"\\n***** Y *****\\n\")\n",
    "pd.DataFrame(y).head()"
   ]
  },
  {
   "cell_type": "markdown",
   "metadata": {},
   "source": [
    "### Categorical -> Numerical"
   ]
  },
  {
   "cell_type": "code",
   "execution_count": 7,
   "metadata": {},
   "outputs": [
    {
     "name": "stdout",
     "output_type": "stream",
     "text": [
      "\n",
      "X categorical to numerical\n",
      "\n"
     ]
    },
    {
     "data": {
      "text/html": [
       "<div>\n",
       "<style scoped>\n",
       "    .dataframe tbody tr th:only-of-type {\n",
       "        vertical-align: middle;\n",
       "    }\n",
       "\n",
       "    .dataframe tbody tr th {\n",
       "        vertical-align: top;\n",
       "    }\n",
       "\n",
       "    .dataframe thead th {\n",
       "        text-align: right;\n",
       "    }\n",
       "</style>\n",
       "<table border=\"1\" class=\"dataframe\">\n",
       "  <thead>\n",
       "    <tr style=\"text-align: right;\">\n",
       "      <th></th>\n",
       "      <th>checking_status</th>\n",
       "      <th>duration</th>\n",
       "      <th>credit_history</th>\n",
       "      <th>purpose</th>\n",
       "      <th>credit_amount</th>\n",
       "      <th>savings_status</th>\n",
       "      <th>employment</th>\n",
       "      <th>installment_commitment</th>\n",
       "      <th>personal_status</th>\n",
       "      <th>other_parties</th>\n",
       "      <th>residence_since</th>\n",
       "      <th>property_magnitude</th>\n",
       "      <th>age</th>\n",
       "      <th>other_payment_plans</th>\n",
       "      <th>housing</th>\n",
       "      <th>existing_credits</th>\n",
       "      <th>job</th>\n",
       "      <th>num_dependents</th>\n",
       "      <th>own_telephone</th>\n",
       "      <th>foreign_worker</th>\n",
       "    </tr>\n",
       "  </thead>\n",
       "  <tbody>\n",
       "    <tr>\n",
       "      <th>0</th>\n",
       "      <td>2</td>\n",
       "      <td>6</td>\n",
       "      <td>1</td>\n",
       "      <td>7</td>\n",
       "      <td>1169</td>\n",
       "      <td>0</td>\n",
       "      <td>3</td>\n",
       "      <td>4</td>\n",
       "      <td>3</td>\n",
       "      <td>2</td>\n",
       "      <td>4</td>\n",
       "      <td>2</td>\n",
       "      <td>67</td>\n",
       "      <td>1</td>\n",
       "      <td>1</td>\n",
       "      <td>2</td>\n",
       "      <td>3</td>\n",
       "      <td>1</td>\n",
       "      <td>1</td>\n",
       "      <td>1</td>\n",
       "    </tr>\n",
       "    <tr>\n",
       "      <th>1</th>\n",
       "      <td>1</td>\n",
       "      <td>48</td>\n",
       "      <td>3</td>\n",
       "      <td>7</td>\n",
       "      <td>5951</td>\n",
       "      <td>3</td>\n",
       "      <td>0</td>\n",
       "      <td>2</td>\n",
       "      <td>0</td>\n",
       "      <td>2</td>\n",
       "      <td>2</td>\n",
       "      <td>2</td>\n",
       "      <td>22</td>\n",
       "      <td>1</td>\n",
       "      <td>1</td>\n",
       "      <td>1</td>\n",
       "      <td>3</td>\n",
       "      <td>1</td>\n",
       "      <td>0</td>\n",
       "      <td>1</td>\n",
       "    </tr>\n",
       "    <tr>\n",
       "      <th>2</th>\n",
       "      <td>0</td>\n",
       "      <td>12</td>\n",
       "      <td>1</td>\n",
       "      <td>4</td>\n",
       "      <td>2096</td>\n",
       "      <td>3</td>\n",
       "      <td>1</td>\n",
       "      <td>2</td>\n",
       "      <td>3</td>\n",
       "      <td>2</td>\n",
       "      <td>3</td>\n",
       "      <td>2</td>\n",
       "      <td>49</td>\n",
       "      <td>1</td>\n",
       "      <td>1</td>\n",
       "      <td>1</td>\n",
       "      <td>2</td>\n",
       "      <td>2</td>\n",
       "      <td>0</td>\n",
       "      <td>1</td>\n",
       "    </tr>\n",
       "    <tr>\n",
       "      <th>3</th>\n",
       "      <td>2</td>\n",
       "      <td>42</td>\n",
       "      <td>3</td>\n",
       "      <td>5</td>\n",
       "      <td>7882</td>\n",
       "      <td>3</td>\n",
       "      <td>1</td>\n",
       "      <td>2</td>\n",
       "      <td>3</td>\n",
       "      <td>1</td>\n",
       "      <td>4</td>\n",
       "      <td>0</td>\n",
       "      <td>45</td>\n",
       "      <td>1</td>\n",
       "      <td>0</td>\n",
       "      <td>1</td>\n",
       "      <td>3</td>\n",
       "      <td>2</td>\n",
       "      <td>0</td>\n",
       "      <td>1</td>\n",
       "    </tr>\n",
       "    <tr>\n",
       "      <th>4</th>\n",
       "      <td>2</td>\n",
       "      <td>24</td>\n",
       "      <td>2</td>\n",
       "      <td>1</td>\n",
       "      <td>4870</td>\n",
       "      <td>3</td>\n",
       "      <td>0</td>\n",
       "      <td>3</td>\n",
       "      <td>3</td>\n",
       "      <td>2</td>\n",
       "      <td>4</td>\n",
       "      <td>1</td>\n",
       "      <td>53</td>\n",
       "      <td>1</td>\n",
       "      <td>0</td>\n",
       "      <td>2</td>\n",
       "      <td>3</td>\n",
       "      <td>2</td>\n",
       "      <td>0</td>\n",
       "      <td>1</td>\n",
       "    </tr>\n",
       "  </tbody>\n",
       "</table>\n",
       "</div>"
      ],
      "text/plain": [
       "  checking_status duration credit_history purpose credit_amount  \\\n",
       "0               2        6              1       7          1169   \n",
       "1               1       48              3       7          5951   \n",
       "2               0       12              1       4          2096   \n",
       "3               2       42              3       5          7882   \n",
       "4               2       24              2       1          4870   \n",
       "\n",
       "  savings_status employment installment_commitment personal_status  \\\n",
       "0              0          3                      4               3   \n",
       "1              3          0                      2               0   \n",
       "2              3          1                      2               3   \n",
       "3              3          1                      2               3   \n",
       "4              3          0                      3               3   \n",
       "\n",
       "  other_parties residence_since property_magnitude age other_payment_plans  \\\n",
       "0             2               4                  2  67                   1   \n",
       "1             2               2                  2  22                   1   \n",
       "2             2               3                  2  49                   1   \n",
       "3             1               4                  0  45                   1   \n",
       "4             2               4                  1  53                   1   \n",
       "\n",
       "  housing existing_credits job num_dependents own_telephone foreign_worker  \n",
       "0       1                2   3              1             1              1  \n",
       "1       1                1   3              1             0              1  \n",
       "2       1                1   2              2             0              1  \n",
       "3       0                1   3              2             0              1  \n",
       "4       0                2   3              2             0              1  "
      ]
     },
     "execution_count": 7,
     "metadata": {},
     "output_type": "execute_result"
    }
   ],
   "source": [
    "x = x.values\n",
    "labelencoder = LabelEncoder()\n",
    "transform = [0,2,3,5,6,8,9,11,13,14,16,18,19]\n",
    "\n",
    "for i in transform:\n",
    "    x[:,i] = labelencoder.fit_transform(x[:,i])\n",
    "    \n",
    "x = pd.DataFrame(x)\n",
    "x.columns = x_labels\n",
    "print(\"\\nX categorical to numerical\\n\")\n",
    "x.head()"
   ]
  },
  {
   "cell_type": "markdown",
   "metadata": {},
   "source": [
    "### Train / Test Split"
   ]
  },
  {
   "cell_type": "code",
   "execution_count": 8,
   "metadata": {},
   "outputs": [
    {
     "name": "stdout",
     "output_type": "stream",
     "text": [
      "\n",
      "Train / Test Split\n",
      "\n",
      "X Train:\n",
      "700 records\n",
      "20 predictor/explanatory/independent variables\n",
      "\n",
      "Y Train:\n",
      "700 records\n",
      "1 predicted/response/dependent variable\n",
      "\n",
      "X Test:\n",
      "300 records\n",
      "20 predictor/explanatory/independent variables\n",
      "\n",
      "Y Test:\n",
      "300 records\n",
      "1 predicted/response/dependent variable\n"
     ]
    }
   ],
   "source": [
    "x_train, x_test, y_train, y_test = train_test_split(x, y, test_size=0.3, random_state=random)\n",
    "\n",
    "# Title\n",
    "print(\"\\nTrain / Test Split\\n\")\n",
    "\n",
    "# X Train\n",
    "print(\"X Train:\")\n",
    "print(x_train.shape[0], \"records\")\n",
    "print(x_train.shape[1], \"predictor/explanatory/independent variables\\n\")\n",
    "\n",
    "# Y Train\n",
    "print(\"Y Train:\")\n",
    "print(y_train.shape[0], \"records\")\n",
    "try:\n",
    "    print(y_train.shape[1], \"predicted/response/dependent variable\\n\")\n",
    "except:\n",
    "    print(\"1 predicted/response/dependent variable\\n\")\n",
    "\n",
    "# X Test\n",
    "print(\"X Test:\")\n",
    "print(x_test.shape[0], \"records\")\n",
    "print(x_test.shape[1], \"predictor/explanatory/independent variables\\n\")\n",
    "\n",
    "# Y Test\n",
    "print(\"Y Test:\")\n",
    "print(y_test.shape[0], \"records\")\n",
    "try:\n",
    "    print(y_test.shape[1], \"predicted/response/dependent variable\")\n",
    "except:\n",
    "    print(\"1 predicted/response/dependent variable\")"
   ]
  },
  {
   "cell_type": "markdown",
   "metadata": {},
   "source": [
    "### Model Fit"
   ]
  },
  {
   "cell_type": "code",
   "execution_count": 9,
   "metadata": {},
   "outputs": [
    {
     "name": "stdout",
     "output_type": "stream",
     "text": [
      "\n",
      "Model Fitted\n"
     ]
    }
   ],
   "source": [
    "if choice == 5: # Only if you are using a XGBClassifier\n",
    "    x_train = x_train.values\n",
    "    y_train = y_train.values\n",
    "    x_test = x_test.values\n",
    "    y_test = y_test.values\n",
    "\n",
    "model.fit(x_train, y_train)\n",
    "print(\"\\nModel Fitted\")\n",
    "\n",
    "if choice == 2: # Only if you are using a Decision Tree Classifier\n",
    "    export_graphviz(model, out_file = \"tree.dot\")\n",
    "    print(\"<tree.dot> file exported\") "
   ]
  },
  {
   "cell_type": "markdown",
   "metadata": {},
   "source": [
    "### Test Prediction"
   ]
  },
  {
   "cell_type": "code",
   "execution_count": 10,
   "metadata": {},
   "outputs": [
    {
     "name": "stdout",
     "output_type": "stream",
     "text": [
      "\n",
      "Test Predicted\n",
      "\n",
      "Predictions\n",
      "\n"
     ]
    },
    {
     "data": {
      "text/html": [
       "<div>\n",
       "<style scoped>\n",
       "    .dataframe tbody tr th:only-of-type {\n",
       "        vertical-align: middle;\n",
       "    }\n",
       "\n",
       "    .dataframe tbody tr th {\n",
       "        vertical-align: top;\n",
       "    }\n",
       "\n",
       "    .dataframe thead th {\n",
       "        text-align: right;\n",
       "    }\n",
       "</style>\n",
       "<table border=\"1\" class=\"dataframe\">\n",
       "  <thead>\n",
       "    <tr style=\"text-align: right;\">\n",
       "      <th></th>\n",
       "      <th>0</th>\n",
       "    </tr>\n",
       "  </thead>\n",
       "  <tbody>\n",
       "    <tr>\n",
       "      <th>0</th>\n",
       "      <td>bad</td>\n",
       "    </tr>\n",
       "    <tr>\n",
       "      <th>1</th>\n",
       "      <td>good</td>\n",
       "    </tr>\n",
       "    <tr>\n",
       "      <th>2</th>\n",
       "      <td>good</td>\n",
       "    </tr>\n",
       "    <tr>\n",
       "      <th>3</th>\n",
       "      <td>good</td>\n",
       "    </tr>\n",
       "    <tr>\n",
       "      <th>4</th>\n",
       "      <td>good</td>\n",
       "    </tr>\n",
       "  </tbody>\n",
       "</table>\n",
       "</div>"
      ],
      "text/plain": [
       "      0\n",
       "0   bad\n",
       "1  good\n",
       "2  good\n",
       "3  good\n",
       "4  good"
      ]
     },
     "execution_count": 10,
     "metadata": {},
     "output_type": "execute_result"
    }
   ],
   "source": [
    "pred_y_test = model.predict(x_test)\n",
    "print(\"\\nTest Predicted\")\n",
    "print(\"\\nPredictions\\n\")\n",
    "pd.DataFrame(pred_y_test).head()"
   ]
  },
  {
   "cell_type": "markdown",
   "metadata": {},
   "source": [
    "### Test Prediction Probabilities"
   ]
  },
  {
   "cell_type": "code",
   "execution_count": 11,
   "metadata": {},
   "outputs": [
    {
     "name": "stdout",
     "output_type": "stream",
     "text": [
      "\n",
      "Test Prediction Probabilities\n",
      "\n"
     ]
    },
    {
     "data": {
      "text/html": [
       "<div>\n",
       "<style scoped>\n",
       "    .dataframe tbody tr th:only-of-type {\n",
       "        vertical-align: middle;\n",
       "    }\n",
       "\n",
       "    .dataframe tbody tr th {\n",
       "        vertical-align: top;\n",
       "    }\n",
       "\n",
       "    .dataframe thead th {\n",
       "        text-align: right;\n",
       "    }\n",
       "</style>\n",
       "<table border=\"1\" class=\"dataframe\">\n",
       "  <thead>\n",
       "    <tr style=\"text-align: right;\">\n",
       "      <th></th>\n",
       "      <th>0</th>\n",
       "      <th>1</th>\n",
       "    </tr>\n",
       "  </thead>\n",
       "  <tbody>\n",
       "    <tr>\n",
       "      <th>0</th>\n",
       "      <td>0.597</td>\n",
       "      <td>0.403</td>\n",
       "    </tr>\n",
       "    <tr>\n",
       "      <th>1</th>\n",
       "      <td>0.163</td>\n",
       "      <td>0.837</td>\n",
       "    </tr>\n",
       "    <tr>\n",
       "      <th>2</th>\n",
       "      <td>0.081</td>\n",
       "      <td>0.919</td>\n",
       "    </tr>\n",
       "    <tr>\n",
       "      <th>3</th>\n",
       "      <td>0.196</td>\n",
       "      <td>0.804</td>\n",
       "    </tr>\n",
       "    <tr>\n",
       "      <th>4</th>\n",
       "      <td>0.339</td>\n",
       "      <td>0.661</td>\n",
       "    </tr>\n",
       "  </tbody>\n",
       "</table>\n",
       "</div>"
      ],
      "text/plain": [
       "       0      1\n",
       "0  0.597  0.403\n",
       "1  0.163  0.837\n",
       "2  0.081  0.919\n",
       "3  0.196  0.804\n",
       "4  0.339  0.661"
      ]
     },
     "execution_count": 11,
     "metadata": {},
     "output_type": "execute_result"
    }
   ],
   "source": [
    "probability = model.predict_proba(x_test) \n",
    "print(\"\\nTest Prediction Probabilities\\n\")\n",
    "pd.DataFrame(probability.round(4)).head()"
   ]
  },
  {
   "cell_type": "markdown",
   "metadata": {},
   "source": [
    "### Accuracy Score"
   ]
  },
  {
   "cell_type": "code",
   "execution_count": 12,
   "metadata": {},
   "outputs": [
    {
     "name": "stdout",
     "output_type": "stream",
     "text": [
      "\n",
      "Accuracy Score:  0.78\n"
     ]
    }
   ],
   "source": [
    "score = accuracy_score(y_test, pred_y_test)\n",
    "print(\"\\nAccuracy Score: \", score)"
   ]
  },
  {
   "cell_type": "markdown",
   "metadata": {},
   "source": [
    "### Simple Confusion Matrix"
   ]
  },
  {
   "cell_type": "code",
   "execution_count": 13,
   "metadata": {},
   "outputs": [
    {
     "name": "stdout",
     "output_type": "stream",
     "text": [
      "\n",
      "Matrix\n",
      "\n"
     ]
    },
    {
     "data": {
      "text/html": [
       "<div>\n",
       "<style scoped>\n",
       "    .dataframe tbody tr th:only-of-type {\n",
       "        vertical-align: middle;\n",
       "    }\n",
       "\n",
       "    .dataframe tbody tr th {\n",
       "        vertical-align: top;\n",
       "    }\n",
       "\n",
       "    .dataframe thead th {\n",
       "        text-align: right;\n",
       "    }\n",
       "</style>\n",
       "<table border=\"1\" class=\"dataframe\">\n",
       "  <thead>\n",
       "    <tr style=\"text-align: right;\">\n",
       "      <th></th>\n",
       "      <th>0</th>\n",
       "      <th>1</th>\n",
       "    </tr>\n",
       "  </thead>\n",
       "  <tbody>\n",
       "    <tr>\n",
       "      <th>0</th>\n",
       "      <td>37</td>\n",
       "      <td>49</td>\n",
       "    </tr>\n",
       "    <tr>\n",
       "      <th>1</th>\n",
       "      <td>17</td>\n",
       "      <td>197</td>\n",
       "    </tr>\n",
       "  </tbody>\n",
       "</table>\n",
       "</div>"
      ],
      "text/plain": [
       "    0    1\n",
       "0  37   49\n",
       "1  17  197"
      ]
     },
     "execution_count": 13,
     "metadata": {},
     "output_type": "execute_result"
    }
   ],
   "source": [
    "matrix = confusion_matrix(y_test, pred_y_test)\n",
    "print(\"\\nMatrix\\n\")\n",
    "pd.DataFrame(matrix)"
   ]
  },
  {
   "cell_type": "markdown",
   "metadata": {},
   "source": [
    "### Confusion Matrix Plot"
   ]
  },
  {
   "cell_type": "code",
   "execution_count": 14,
   "metadata": {},
   "outputs": [
    {
     "data": {
      "image/png": "[encoded data removed]",
      "text/plain": [
       "<Figure size 432x288 with 1 Axes>"
      ]
     },
     "metadata": {
      "needs_background": "light"
     },
     "output_type": "display_data"
    },
    {
     "name": "stdout",
     "output_type": "stream",
     "text": [
      "\n",
      "Image <matrix.png> saved.\n",
      "\n"
     ]
    }
   ],
   "source": [
    "matrix_plot = ConfusionMatrix(model)\n",
    "rcParams['figure.figsize'] = 5, 5\n",
    "matrix_plot.fit(x_train, y_train)\n",
    "matrix_plot.score(x_test, y_test)\n",
    "matrix_plot.poof(outpath=\"results/matrix.png\", dpi=300) # Only if you want to save the plot as an image\n",
    "matrix_plot.poof()\n",
    "\n",
    "print(\"\\nImage <matrix.png> saved.\\n\")"
   ]
  },
  {
   "cell_type": "markdown",
   "metadata": {},
   "source": [
    "### Variables Importances"
   ]
  },
  {
   "cell_type": "code",
   "execution_count": 15,
   "metadata": {},
   "outputs": [
    {
     "name": "stdout",
     "output_type": "stream",
     "text": [
      "\n",
      "Variables Importances\n",
      "\n"
     ]
    },
    {
     "data": {
      "text/html": [
       "<div>\n",
       "<style scoped>\n",
       "    .dataframe tbody tr th:only-of-type {\n",
       "        vertical-align: middle;\n",
       "    }\n",
       "\n",
       "    .dataframe tbody tr th {\n",
       "        vertical-align: top;\n",
       "    }\n",
       "\n",
       "    .dataframe thead th {\n",
       "        text-align: right;\n",
       "    }\n",
       "</style>\n",
       "<table border=\"1\" class=\"dataframe\">\n",
       "  <thead>\n",
       "    <tr style=\"text-align: right;\">\n",
       "      <th></th>\n",
       "      <th>Variable</th>\n",
       "      <th>Importance</th>\n",
       "    </tr>\n",
       "  </thead>\n",
       "  <tbody>\n",
       "    <tr>\n",
       "      <th>0</th>\n",
       "      <td>foreign_worker</td>\n",
       "      <td>0.008</td>\n",
       "    </tr>\n",
       "    <tr>\n",
       "      <th>1</th>\n",
       "      <td>num_dependents</td>\n",
       "      <td>0.025</td>\n",
       "    </tr>\n",
       "    <tr>\n",
       "      <th>2</th>\n",
       "      <td>other_parties</td>\n",
       "      <td>0.0255</td>\n",
       "    </tr>\n",
       "    <tr>\n",
       "      <th>3</th>\n",
       "      <td>own_telephone</td>\n",
       "      <td>0.0319</td>\n",
       "    </tr>\n",
       "    <tr>\n",
       "      <th>4</th>\n",
       "      <td>existing_credits</td>\n",
       "      <td>0.0352</td>\n",
       "    </tr>\n",
       "    <tr>\n",
       "      <th>5</th>\n",
       "      <td>other_payment_plans</td>\n",
       "      <td>0.0358</td>\n",
       "    </tr>\n",
       "    <tr>\n",
       "      <th>6</th>\n",
       "      <td>housing</td>\n",
       "      <td>0.0372</td>\n",
       "    </tr>\n",
       "    <tr>\n",
       "      <th>7</th>\n",
       "      <td>job</td>\n",
       "      <td>0.0425</td>\n",
       "    </tr>\n",
       "    <tr>\n",
       "      <th>8</th>\n",
       "      <td>personal_status</td>\n",
       "      <td>0.0451</td>\n",
       "    </tr>\n",
       "    <tr>\n",
       "      <th>9</th>\n",
       "      <td>savings_status</td>\n",
       "      <td>0.0462</td>\n",
       "    </tr>\n",
       "    <tr>\n",
       "      <th>10</th>\n",
       "      <td>property_magnitude</td>\n",
       "      <td>0.0495</td>\n",
       "    </tr>\n",
       "    <tr>\n",
       "      <th>11</th>\n",
       "      <td>installment_commitment</td>\n",
       "      <td>0.0503</td>\n",
       "    </tr>\n",
       "    <tr>\n",
       "      <th>12</th>\n",
       "      <td>residence_since</td>\n",
       "      <td>0.0522</td>\n",
       "    </tr>\n",
       "    <tr>\n",
       "      <th>13</th>\n",
       "      <td>employment</td>\n",
       "      <td>0.0537</td>\n",
       "    </tr>\n",
       "    <tr>\n",
       "      <th>14</th>\n",
       "      <td>purpose</td>\n",
       "      <td>0.0585</td>\n",
       "    </tr>\n",
       "    <tr>\n",
       "      <th>15</th>\n",
       "      <td>credit_history</td>\n",
       "      <td>0.0621</td>\n",
       "    </tr>\n",
       "    <tr>\n",
       "      <th>16</th>\n",
       "      <td>age</td>\n",
       "      <td>0.0647</td>\n",
       "    </tr>\n",
       "    <tr>\n",
       "      <th>17</th>\n",
       "      <td>credit_amount</td>\n",
       "      <td>0.0808</td>\n",
       "    </tr>\n",
       "    <tr>\n",
       "      <th>18</th>\n",
       "      <td>duration</td>\n",
       "      <td>0.0853</td>\n",
       "    </tr>\n",
       "    <tr>\n",
       "      <th>19</th>\n",
       "      <td>checking_status</td>\n",
       "      <td>0.1105</td>\n",
       "    </tr>\n",
       "  </tbody>\n",
       "</table>\n",
       "</div>"
      ],
      "text/plain": [
       "                  Variable Importance\n",
       "0           foreign_worker      0.008\n",
       "1           num_dependents      0.025\n",
       "2            other_parties     0.0255\n",
       "3            own_telephone     0.0319\n",
       "4         existing_credits     0.0352\n",
       "5      other_payment_plans     0.0358\n",
       "6                  housing     0.0372\n",
       "7                      job     0.0425\n",
       "8          personal_status     0.0451\n",
       "9           savings_status     0.0462\n",
       "10      property_magnitude     0.0495\n",
       "11  installment_commitment     0.0503\n",
       "12         residence_since     0.0522\n",
       "13              employment     0.0537\n",
       "14                 purpose     0.0585\n",
       "15          credit_history     0.0621\n",
       "16                     age     0.0647\n",
       "17           credit_amount     0.0808\n",
       "18                duration     0.0853\n",
       "19         checking_status     0.1105"
      ]
     },
     "execution_count": 15,
     "metadata": {},
     "output_type": "execute_result"
    }
   ],
   "source": [
    "forest = ExtraTreesClassifier(n_estimators=1000, random_state=random)\n",
    "forest.fit(x_train, y_train)\n",
    "importances = forest.feature_importances_\n",
    "\n",
    "dic = dict(zip(x_labels, importances.round(4)))\n",
    "sort_values = sorted(dic.items(), key=operator.itemgetter(1), reverse=False)\n",
    "sorted_importances = pd.DataFrame(sort_values)\n",
    "\n",
    "print(\"\\nVariables Importances\\n\")\n",
    "pd.DataFrame(sorted_importances.values, columns=[\"Variable\", \"Importance\"])"
   ]
  },
  {
   "cell_type": "markdown",
   "metadata": {},
   "source": [
    "### Variables Importances Plot"
   ]
  },
  {
   "cell_type": "code",
   "execution_count": 16,
   "metadata": {},
   "outputs": [
    {
     "data": {
      "image/png": "[encoded data removed]",
      "text/plain": [
       "<Figure size 864x720 with 1 Axes>"
      ]
     },
     "metadata": {
      "needs_background": "light"
     },
     "output_type": "display_data"
    },
    {
     "name": "stdout",
     "output_type": "stream",
     "text": [
      "\n",
      "Image <importances.png> saved.\n",
      "\n"
     ]
    }
   ],
   "source": [
    "plt.rcParams['figure.figsize'] = 12, 10\n",
    "plt.scatter(sorted_importances[1], sorted_importances[0])\n",
    "plt.title('\\nImportances\\n', fontsize=20)\n",
    "plt.xlabel('\\nImportance (0~1)\\n', fontsize=15)\n",
    "plt.ylabel('\\nVariable\\n', fontsize=15)\n",
    "plt.grid(alpha=0.5)\n",
    "plt.yticks(fontsize=13)\n",
    "plt.tight_layout()\n",
    "plt.savefig('results/importances.png', format='png', dpi = 300, bbox_inches='tight') # Only if you want to save the plot as an image\n",
    "plt.show()\n",
    "\n",
    "print(\"\\nImage <importances.png> saved.\\n\")"
   ]
  },
  {
   "cell_type": "markdown",
   "metadata": {},
   "source": [
    "### Exporting Importances"
   ]
  },
  {
   "cell_type": "code",
   "execution_count": 17,
   "metadata": {},
   "outputs": [
    {
     "name": "stdout",
     "output_type": "stream",
     "text": [
      "\n",
      "File <importances.csv> saved.\n",
      "\n"
     ]
    }
   ],
   "source": [
    "lista = []\n",
    "\n",
    "index = 0\n",
    "for i in x_labels:\n",
    "    lista.append(str(round(importances[index]*100,2)) + \"% | \" + str(i))\n",
    "    index += 1\n",
    "\n",
    "file = open('results/importances.csv', 'w')\n",
    "\n",
    "file.write('Importance|Variable\\n')\n",
    "\n",
    "index = 0\n",
    "while index < len(x_labels):\n",
    "    file.write(str(lista[index])+'\\n')\n",
    "    index += 1\n",
    "\n",
    "file.close()\n",
    "\n",
    "print(\"\\nFile <importances.csv> saved.\\n\")"
   ]
  },
  {
   "cell_type": "markdown",
   "metadata": {},
   "source": [
    "### Exporting Predictions"
   ]
  },
  {
   "cell_type": "code",
   "execution_count": 18,
   "metadata": {},
   "outputs": [
    {
     "name": "stdout",
     "output_type": "stream",
     "text": [
      "\n",
      "File <predictions.csv> saved.\n",
      "\n"
     ]
    }
   ],
   "source": [
    "file = open('results/predictions.csv', 'w')\n",
    "\n",
    "file.write('Key|x_test|y_test|pred_y_test|Probability\\n')\n",
    "\n",
    "index = 0\n",
    "while index < len(pred_y_test):\n",
    "    file.write(str(index) + '|' + str(np.array(x_test)[index]) + '|' + str(np.array(y_test)[index]) + '|' + str(np.array(pred_y_test)[index]) + '|' + str(round(probability[index][1], 4)).replace(\".\", \",\") + '\\n')\n",
    "    index += 1\n",
    "\n",
    "file.close()\n",
    "\n",
    "print(\"\\nFile <predictions.csv> saved.\\n\")"
   ]
  },
  {
   "cell_type": "markdown",
   "metadata": {},
   "source": [
    "### *Leonardo Damasio* | **Data Scientist**\n",
    "\n",
    "#### LinkedIn\n",
    "##### www.linkedin.com/in/leonardodamasio\n",
    "\n",
    "#### GitHub\n",
    "##### www.github.com/leonardodamasio/\n",
    "\n",
    "#### Email\n",
    "##### leoleonardo1996@hotmail.com"
   ]
  }
 ],
 "metadata": {
  "kernelspec": {
   "display_name": "Python 3",
   "language": "python",
   "name": "python3"
  },
  "language_info": {
   "codemirror_mode": {
    "name": "ipython",
    "version": 3
   },
   "file_extension": ".py",
   "mimetype": "text/x-python",
   "name": "python",
   "nbconvert_exporter": "python",
   "pygments_lexer": "ipython3",
   "version": "3.7.3"
  }
 },
 "nbformat": 4,
 "nbformat_minor": 4
}
